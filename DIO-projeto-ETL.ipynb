{
 "cells": [
  {
   "cell_type": "code",
   "execution_count": 6,
   "metadata": {},
   "outputs": [],
   "source": [
    "import requests\n",
    "import json\n",
    "from bs4 import BeautifulSoup\n",
    "import time"
   ]
  },
  {
   "cell_type": "markdown",
   "metadata": {},
   "source": [
    "# Extract"
   ]
  },
  {
   "cell_type": "code",
   "execution_count": 2,
   "metadata": {},
   "outputs": [
    {
     "name": "stdout",
     "output_type": "stream",
     "text": [
      "Requirement already satisfied: requests in c:\\users\\nicolas\\appdata\\local\\programs\\python\\python310\\lib\\site-packages (2.28.2)\n",
      "Requirement already satisfied: charset-normalizer<4,>=2 in c:\\users\\nicolas\\appdata\\local\\programs\\python\\python310\\lib\\site-packages (from requests) (3.1.0)\n",
      "Requirement already satisfied: idna<4,>=2.5 in c:\\users\\nicolas\\appdata\\local\\programs\\python\\python310\\lib\\site-packages (from requests) (3.3)\n",
      "Requirement already satisfied: urllib3<1.27,>=1.21.1 in c:\\users\\nicolas\\appdata\\local\\programs\\python\\python310\\lib\\site-packages (from requests) (1.26.8)\n",
      "Requirement already satisfied: certifi>=2017.4.17 in c:\\users\\nicolas\\appdata\\local\\programs\\python\\python310\\lib\\site-packages (from requests) (2021.10.8)\n"
     ]
    }
   ],
   "source": [
    "!pip install requests\n",
    "\n",
    "def extract(rodada: int):\n",
    "    \"\"\"Função que recebe uma entrada \"rodada\" e retorna um dados json do site football-data.org\n",
    "\n",
    "    Args:\n",
    "        rodada (int): Rodada correspondente da premier league.\n",
    "\n",
    "    Returns:\n",
    "        dict: Dicionário que contêm dados coletados da API\n",
    "    \"\"\"\n",
    "    url = f\"https://api.football-data.org/v4/competitions/PL/matches?matchday={rodada}\"\n",
    "    api_key = \"APIKEY\" #coloque sua api do football-data.org no lugar do texto APIKEY\n",
    "    headers = {\"X-Auth-Token\": api_key}\n",
    "\n",
    "    response = requests.get(url, headers=headers)\n",
    "    data = response.json()\n",
    "    return data"
   ]
  },
  {
   "cell_type": "markdown",
   "metadata": {},
   "source": [
    "# Transform"
   ]
  },
  {
   "cell_type": "code",
   "execution_count": 7,
   "metadata": {},
   "outputs": [],
   "source": [
    "def transform(data : dict):\n",
    "    \"\"\"Função que recebe um dicionário simples sobre as partidas da premier league e \n",
    "    retorna um dicionário com mais informações como clima e temperatura em graus celsius no horário das partidas.\n",
    "\n",
    "    Args:\n",
    "        data (dict): Dicionário contendo horário e times das partidas.\n",
    "\n",
    "    Returns:\n",
    "        dict: Dicionário contendo dados da partida e clima no horário dos jogos.\n",
    "    \"\"\"\n",
    "    partidas = {}\n",
    "    data_partidas = data['matches']\n",
    "    numero_partida = 0 # variavel apenas para nomear a chave do dicionario para ser unico\n",
    "    \n",
    "    for partida in data_partidas:\n",
    "        time_mandante = partida['homeTeam']['name']\n",
    "        time_visitante = partida['awayTeam']['name']\n",
    "        utc_data = partida['utcDate']\n",
    "        \n",
    "        print(f\"Mandante: {time_mandante}\")\n",
    "        print(f\"Visitante: {time_visitante}\")\n",
    "        print(f\"Data: {utc_data[:10]}\")\n",
    "        print(f\"Horário: {utc_data[11:16]} UTC\")\n",
    "        print(\"-\" * 20)\n",
    "        partidas[numero_partida] = {'mandante': time_mandante, 'visitante': time_visitante, 'utc-data': utc_data}\n",
    "        \n",
    "        numero_partida += 1\n",
    "\n",
    "    r = requests.get('https://en.wikipedia.org/wiki/List_of_Premier_League_clubs')\n",
    "\n",
    "    data = r.text\n",
    "\n",
    "    soup = BeautifulSoup(data, \"html.parser\")\n",
    "    table = soup.find(\"table\", {\"class\": \"wikitable\"})\n",
    "\n",
    "    # Iterate through each row of the table (excluding the header row)\n",
    "    for row in table.find_all(\"tr\")[1:]:\n",
    "        columns = row.find_all(\"td\")\n",
    "        if len(columns) >= 2:\n",
    "            team_name_cell = columns[0]\n",
    "            city_cell = columns[1]\n",
    "            team_name = team_name_cell.get_text(strip=True)\n",
    "            \n",
    "            city_links = city_cell.find_all(\"a\")\n",
    "            if city_links:\n",
    "                nome_cidade = city_links[0].get_text(strip=True)\n",
    "\n",
    "            for key, value in partidas.items():\n",
    "                if team_name in value['mandante']:\n",
    "                    partidas[key]['cidade'] = nome_cidade\n",
    "\n",
    "    api_key = 'APIKEY' # é necessário uma weatherbit api key, coloque sua chave aqui no lugar do texto \"APIKEY\"\n",
    "    \n",
    "    url = 'https://api.weatherbit.io/v2.0/forecast/hourly'\n",
    "\n",
    "    # Parameters for the API request\n",
    "\n",
    "    for key, value in partidas.items():\n",
    "    #print(value['cidade'], value['utc-data'].replace('Z', ''))\n",
    "\n",
    "        params = {'key': api_key,\n",
    "            'city': value['cidade'],\n",
    "            'country': 'GB',\n",
    "            'start_time': value['utc-data'].replace('Z', ''),\n",
    "            'end_time': value['utc-data'].replace('Z', ''),\n",
    "            'tz': 'UTC'\n",
    "        }\n",
    "\n",
    "        # Make the API request\n",
    "        response = requests.get(url, params=params)\n",
    "\n",
    "        # Parse the response JSON\n",
    "        data_clima = response.json()\n",
    "\n",
    "        # Extrai dados do site weatherbit\n",
    "        if 'data' in data_clima:\n",
    "            visibilidade_nuvens = data_clima['data'][0]['clouds']\n",
    "            precipitacao = data_clima['data'][0]['precip']\n",
    "            temperatura = data_clima['data'][0]['temp']\n",
    "            tempo = ''\n",
    "            chuva = precipitacao > 0\n",
    "            \n",
    "            if visibilidade_nuvens < 20 and not chuva:\n",
    "                tempo = 'Tempo ensolarado'\n",
    "            elif visibilidade_nuvens < 70 and not chuva:\n",
    "                tempo = \"Tempo parcialmente nublado\"\n",
    "            elif chuva:\n",
    "                tempo = \"Tempo chuvoso\"\n",
    "            else:\n",
    "                tempo = \"Tempo nublado\"\n",
    "        else:\n",
    "            print(\"Dados de clima indisponíveis.\")\n",
    "        partidas[key]['tempo'] = tempo\n",
    "        partidas[key]['temperatura'] = f\"{temperatura}°C\"\n",
    "        time.sleep(5)\n",
    "    \n",
    "    return partidas\n",
    "    \n",
    "\n"
   ]
  },
  {
   "cell_type": "markdown",
   "metadata": {},
   "source": [
    "# Load"
   ]
  },
  {
   "cell_type": "code",
   "execution_count": 4,
   "metadata": {},
   "outputs": [],
   "source": [
    "def load(data : dict):\n",
    "    \"\"\"Procedimento no qual cria um arquivo json contendo os dados das partidas coletados anteriormente.\n",
    "\n",
    "    Args:\n",
    "        data (dict): Dicionário contendo dados da partida e clima no horário dos jogos.\n",
    "    \"\"\"\n",
    "    arquivo = \"Output/partidas_premier_league.json\"\n",
    "    # salva a data em um arquivo json\n",
    "    with open(arquivo, \"w\") as json_file:\n",
    "        json.dump(data, json_file)"
   ]
  },
  {
   "cell_type": "markdown",
   "metadata": {},
   "source": [
    "# Main"
   ]
  },
  {
   "cell_type": "code",
   "execution_count": 8,
   "metadata": {},
   "outputs": [
    {
     "name": "stdout",
     "output_type": "stream",
     "text": [
      "Mandante: Chelsea FC\n",
      "Visitante: Luton Town FC\n",
      "Data: 2023-08-25\n",
      "Horário: 19:00 UTC\n",
      "--------------------\n",
      "Mandante: AFC Bournemouth\n",
      "Visitante: Tottenham Hotspur FC\n",
      "Data: 2023-08-26\n",
      "Horário: 11:30 UTC\n",
      "--------------------\n",
      "Mandante: Everton FC\n",
      "Visitante: Wolverhampton Wanderers FC\n",
      "Data: 2023-08-26\n",
      "Horário: 14:00 UTC\n",
      "--------------------\n",
      "Mandante: Manchester United FC\n",
      "Visitante: Nottingham Forest FC\n",
      "Data: 2023-08-26\n",
      "Horário: 14:00 UTC\n",
      "--------------------\n",
      "Mandante: Arsenal FC\n",
      "Visitante: Fulham FC\n",
      "Data: 2023-08-26\n",
      "Horário: 14:00 UTC\n",
      "--------------------\n",
      "Mandante: Brentford FC\n",
      "Visitante: Crystal Palace FC\n",
      "Data: 2023-08-26\n",
      "Horário: 14:00 UTC\n",
      "--------------------\n",
      "Mandante: Brighton & Hove Albion FC\n",
      "Visitante: West Ham United FC\n",
      "Data: 2023-08-26\n",
      "Horário: 16:30 UTC\n",
      "--------------------\n",
      "Mandante: Sheffield United FC\n",
      "Visitante: Manchester City FC\n",
      "Data: 2023-08-27\n",
      "Horário: 13:00 UTC\n",
      "--------------------\n",
      "Mandante: Burnley FC\n",
      "Visitante: Aston Villa FC\n",
      "Data: 2023-08-27\n",
      "Horário: 13:00 UTC\n",
      "--------------------\n",
      "Mandante: Newcastle United FC\n",
      "Visitante: Liverpool FC\n",
      "Data: 2023-08-27\n",
      "Horário: 15:30 UTC\n",
      "--------------------\n",
      "Chelsea FC\n",
      "AFC Bournemouth\n",
      "Everton FC\n",
      "Manchester United FC\n",
      "Arsenal FC\n",
      "Brentford FC\n",
      "Brighton & Hove Albion FC\n",
      "Sheffield United FC\n",
      "Burnley FC\n",
      "Newcastle United FC\n"
     ]
    }
   ],
   "source": [
    "raw_data = extract(rodada=3)\n",
    "data = transform(raw_data)\n",
    "# save the data in a json file\n",
    "load(data)"
   ]
  }
 ],
 "metadata": {
  "kernelspec": {
   "display_name": "Python 3",
   "language": "python",
   "name": "python3"
  },
  "language_info": {
   "codemirror_mode": {
    "name": "ipython",
    "version": 3
   },
   "file_extension": ".py",
   "mimetype": "text/x-python",
   "name": "python",
   "nbconvert_exporter": "python",
   "pygments_lexer": "ipython3",
   "version": "3.10.1"
  },
  "orig_nbformat": 4
 },
 "nbformat": 4,
 "nbformat_minor": 2
}
